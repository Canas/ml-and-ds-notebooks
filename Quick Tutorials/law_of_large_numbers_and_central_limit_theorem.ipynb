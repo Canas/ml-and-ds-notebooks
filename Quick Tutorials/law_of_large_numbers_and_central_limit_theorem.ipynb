{
 "cells": [
  {
   "cell_type": "code",
   "execution_count": 1,
   "metadata": {},
   "outputs": [],
   "source": [
    "import matplotlib.pyplot as plt\n",
    "import numpy as np\n",
    "import seaborn as sns\n",
    "\n",
    "np.random.seed(42)\n",
    "plt.ion()"
   ]
  },
  {
   "cell_type": "markdown",
   "metadata": {},
   "source": [
    "# Law of Large Numbers and Central Limit Theorem"
   ]
  },
  {
   "cell_type": "markdown",
   "metadata": {},
   "source": [
    "In this notebook we will review the *Law of Large Numbers* (LLN) and *Central Limit Theorem* (CLT) from a practical perspective. We'll use the Bernoulli distribution to apply these concepts."
   ]
  },
  {
   "cell_type": "markdown",
   "metadata": {},
   "source": [
    "## Bernoulli Distribution"
   ]
  },
  {
   "cell_type": "markdown",
   "metadata": {},
   "source": [
    "Defined as \n",
    "\n",
    "$$\n",
    "X_i \\sim Ber(X_i|\\theta) = \\left\\{\\begin{matrix}\\theta & \\text{if}\\  x=1\\\\ 1 - \\theta & \\text{if}\\ x=0\\end{matrix}\\right.\n",
    "$$"
   ]
  },
  {
   "cell_type": "code",
   "execution_count": 2,
   "metadata": {},
   "outputs": [
    {
     "data": {
      "image/png": "[encoded data removed]",
      "text/plain": [
       "<matplotlib.figure.Figure at 0x7fb206a054e0>"
      ]
     },
     "metadata": {},
     "output_type": "display_data"
    }
   ],
   "source": [
    "# fair coin is a bernoulli with theta=0.5\n",
    "fig, ax = plt.subplots(figsize=(5, 5))\n",
    "ax.bar([0, 1], [0.5, 0.5], [0.1])\n",
    "ax.set_ylim([0, 1])\n",
    "_ = ax.set_title('Bernoulli PDF for a fair coin')"
   ]
  },
  {
   "cell_type": "markdown",
   "metadata": {},
   "source": [
    "## Law of Large Numbers"
   ]
  },
  {
   "cell_type": "markdown",
   "metadata": {},
   "source": [
    "The average of the random variables $X_i$ converges to $\\mu$ (the common mean) with probability 1.\n",
    "$$\n",
    "\\frac{1}{n}\\sum_i^{n} X_i \\rightarrow \\mu \\quad \\text{with probability 1}\n",
    "$$\n",
    "\n",
    "In other terms, the probability of the previous event is\n",
    "\n",
    "$$\n",
    "\\left( P\\left(\\lim_{n\\rightarrow\\infty} \\frac{1}{n}\\sum_i^{n} X_i = \\mu \\right) = 1 \\right)\n",
    "$$\n",
    "\n",
    "source: [mathematicalmonk](https://www.youtube.com/watch?v=wadzsURQFT4)"
   ]
  },
  {
   "cell_type": "markdown",
   "metadata": {},
   "source": [
    "### Example: Flip fair coin N times"
   ]
  },
  {
   "cell_type": "markdown",
   "metadata": {},
   "source": [
    "We know that the mean of a single Bernoulli variable $X_i$ is:\n",
    "\n",
    "$$\n",
    "\\mathbb{E}_{Ber(X_i|\\theta)} = \\sum_{x=\\{0,1\\}}x \\cdot p(X_i=x) = 1\\cdot P(X_i=1) + 0\\cdot P(X_i=0) = \\theta\n",
    "$$\n",
    "\n",
    "can we get this result by averaging $n$ flips of a fair coin?"
   ]
  },
  {
   "cell_type": "code",
   "execution_count": 3,
   "metadata": {},
   "outputs": [],
   "source": [
    "def draw_samples(n, p):\n",
    "    \"\"\"Draw n samples of a bernoulli distribution with parameter p\"\"\"\n",
    "    return np.random.choice(2, n, p=[1-p, p])"
   ]
  },
  {
   "cell_type": "code",
   "execution_count": 4,
   "metadata": {},
   "outputs": [
    {
     "name": "stdout",
     "output_type": "stream",
     "text": [
      "10 samples mean: 0.6\n",
      "100 samples mean: 0.45\n",
      "1000 samples mean: 0.505\n",
      "10000 samples mean: 0.494\n"
     ]
    }
   ],
   "source": [
    "n = [10, 100, 1000, 10000]\n",
    "theta = 0.5\n",
    "\n",
    "for n_flips in n:\n",
    "    print(f'{n_flips} samples mean:', draw_samples(n_flips, theta).mean())"
   ]
  },
  {
   "cell_type": "markdown",
   "metadata": {},
   "source": [
    "We confirm that as $n$ gets larger, it converges to the true mean of the distribution (0.5). Let's try with an unfair coin."
   ]
  },
  {
   "cell_type": "code",
   "execution_count": 5,
   "metadata": {},
   "outputs": [
    {
     "name": "stdout",
     "output_type": "stream",
     "text": [
      "10 samples mean: 0.9\n",
      "100 samples mean: 0.86\n",
      "1000 samples mean: 0.793\n",
      "10000 samples mean: 0.8038\n"
     ]
    }
   ],
   "source": [
    "n = [10, 100, 1000, 10000]\n",
    "theta = 0.8\n",
    "\n",
    "for n_flips in n:\n",
    "    print(f'{n_flips} samples mean:', draw_samples(n_flips, theta).mean())"
   ]
  },
  {
   "cell_type": "markdown",
   "metadata": {},
   "source": [
    "## Central Limit Theorem"
   ]
  },
  {
   "cell_type": "markdown",
   "metadata": {},
   "source": [
    "The Central Limit Theorem states that\n",
    "$$\n",
    "\\sqrt{\\frac{n}{\\sigma^2}} \\left(\\frac{1}{n}\\sum_i^{n}X_i - \\mu\\right) \\overset{d}{\\longrightarrow} \\mathcal{N}(0, 1)\n",
    "$$\n",
    "In other words, the normalized average of $n$ random variables converges in distribution to a normal even though\tthe random variable itself may not distribute normally!\n",
    "\n",
    "Notice that:\n",
    "- The average of the $n$ draws is a single draw from this distribution\n",
    "- To test this statement, we need to repeat $N$ times the $n$ draws and see if the histogram resembles a normal distribution"
   ]
  },
  {
   "cell_type": "markdown",
   "metadata": {},
   "source": [
    "### Example: Flip fair coin N times"
   ]
  },
  {
   "cell_type": "code",
   "execution_count": 6,
   "metadata": {},
   "outputs": [],
   "source": [
    "def normalized_sum(X_mean, n, theta):\n",
    "    sigma_squared = theta * (1 - theta)\n",
    "    return np.sqrt(n / sigma_squared) * (X_mean - theta)"
   ]
  },
  {
   "cell_type": "code",
   "execution_count": 7,
   "metadata": {},
   "outputs": [],
   "source": [
    "N = 10000\n",
    "n = 10\n",
    "theta = 0.5\n",
    "outputs = []\n",
    "\n",
    "for i in range(N):\n",
    "    outputs.append(normalized_sum(draw_samples(n, theta).mean(), n, theta))"
   ]
  },
  {
   "cell_type": "code",
   "execution_count": 8,
   "metadata": {},
   "outputs": [
    {
     "data": {
      "image/png": "[encoded data removed]",
      "text/plain": [
       "<matplotlib.figure.Figure at 0x7fb2452271d0>"
      ]
     },
     "metadata": {},
     "output_type": "display_data"
    }
   ],
   "source": [
    "fig, ax = plt.subplots(figsize=(5, 5))\n",
    "ax.hist(outputs, bins=15, edgecolor='k')\n",
    "ax.set_xlim([-4, 4])\n",
    "_ = ax.set_title(f'{N} draws of {n} Bernoulli r.v. averaged')"
   ]
  },
  {
   "cell_type": "markdown",
   "metadata": {},
   "source": [
    "We can also check for larger $n$"
   ]
  },
  {
   "cell_type": "code",
   "execution_count": 9,
   "metadata": {},
   "outputs": [],
   "source": [
    "N = 10000\n",
    "n = 1000\n",
    "theta = 0.5\n",
    "outputs = []\n",
    "\n",
    "for i in range(N):\n",
    "    outputs.append(normalized_sum(draw_samples(n, theta).mean(), n, theta))"
   ]
  },
  {
   "cell_type": "code",
   "execution_count": 10,
   "metadata": {},
   "outputs": [
    {
     "data": {
      "image/png": "[encoded data removed]",
      "text/plain": [
       "<matplotlib.figure.Figure at 0x7fb2048bb518>"
      ]
     },
     "metadata": {},
     "output_type": "display_data"
    }
   ],
   "source": [
    "fig, ax = plt.subplots(figsize=(5, 5))\n",
    "ax.hist(outputs, bins=15, edgecolor='k')\n",
    "ax.set_xlim([-4, 4])\n",
    "_ = ax.set_title(f'{N} draws of {n} Bernoulli r.v. averaged')"
   ]
  },
  {
   "cell_type": "code",
   "execution_count": 11,
   "metadata": {},
   "outputs": [],
   "source": [
    "N = 10000\n",
    "n = 10000\n",
    "theta = 0.5\n",
    "outputs = []\n",
    "\n",
    "for i in range(N):\n",
    "    outputs.append(normalized_sum(draw_samples(n, theta).mean(), n, theta))"
   ]
  },
  {
   "cell_type": "code",
   "execution_count": 12,
   "metadata": {},
   "outputs": [
    {
     "data": {
      "image/png": "[encoded data removed]",
      "text/plain": [
       "<matplotlib.figure.Figure at 0x7fb2048e50f0>"
      ]
     },
     "metadata": {},
     "output_type": "display_data"
    }
   ],
   "source": [
    "fig, ax = plt.subplots(figsize=(5, 5))\n",
    "ax.hist(outputs, bins=15, edgecolor='k')\n",
    "ax.set_xlim([-4, 4])\n",
    "_ = ax.set_title(f'{N} draws of {n} Bernoulli r.v. averaged')"
   ]
  },
  {
   "cell_type": "markdown",
   "metadata": {},
   "source": [
    "We conclude then that even though the draws come from a non-gaussian distribution, the CLT states that the average of the r.v. collection converges to a normal distribution as $n$ grows."
   ]
  }
 ],
 "metadata": {
  "kernelspec": {
   "display_name": "Python 3",
   "language": "python",
   "name": "python3"
  },
  "language_info": {
   "codemirror_mode": {
    "name": "ipython",
    "version": 3
   },
   "file_extension": ".py",
   "mimetype": "text/x-python",
   "name": "python",
   "nbconvert_exporter": "python",
   "pygments_lexer": "ipython3",
   "version": "3.6.5"
  }
 },
 "nbformat": 4,
 "nbformat_minor": 2
}
